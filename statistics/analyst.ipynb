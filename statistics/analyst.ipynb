{
 "cells": [
  {
   "cell_type": "code",
   "execution_count": 1,
   "metadata": {},
   "outputs": [],
   "source": [
    "import pandas as pd\n",
    "df = pd.read_csv('../sample_csv_data/flow-label.csv')\n",
    "df = df.drop(columns=['Unnamed: 0'])"
   ]
  },
  {
   "cell_type": "code",
   "execution_count": 2,
   "metadata": {},
   "outputs": [
    {
     "data": {
      "text/html": [
       "<div>\n",
       "<style scoped>\n",
       "    .dataframe tbody tr th:only-of-type {\n",
       "        vertical-align: middle;\n",
       "    }\n",
       "\n",
       "    .dataframe tbody tr th {\n",
       "        vertical-align: top;\n",
       "    }\n",
       "\n",
       "    .dataframe thead th {\n",
       "        text-align: right;\n",
       "    }\n",
       "</style>\n",
       "<table border=\"1\" class=\"dataframe\">\n",
       "  <thead>\n",
       "    <tr style=\"text-align: right;\">\n",
       "      <th></th>\n",
       "      <th>timeStampFirst</th>\n",
       "      <th>timeStampLast</th>\n",
       "      <th>duration</th>\n",
       "      <th>linkProtocol</th>\n",
       "      <th>networkProtocol</th>\n",
       "      <th>transportProtocol</th>\n",
       "      <th>applicationProtocol</th>\n",
       "      <th>srcMac</th>\n",
       "      <th>dstMac</th>\n",
       "      <th>srcIP</th>\n",
       "      <th>dstIP</th>\n",
       "      <th>srcPort</th>\n",
       "      <th>dstPort</th>\n",
       "      <th>packetCount</th>\n",
       "      <th>totalPayloadByte</th>\n",
       "      <th>appplicationPayloadByte</th>\n",
       "      <th>iot</th>\n",
       "      <th>device</th>\n",
       "    </tr>\n",
       "  </thead>\n",
       "  <tbody>\n",
       "    <tr>\n",
       "      <th>0</th>\n",
       "      <td>1474553345790</td>\n",
       "      <td>1474554007847</td>\n",
       "      <td>662057</td>\n",
       "      <td>Ethernet</td>\n",
       "      <td>IPv4</td>\n",
       "      <td>TCP</td>\n",
       "      <td>NaN</td>\n",
       "      <td>08:21:ef:3b:fc:e3</td>\n",
       "      <td>14:cc:20:51:33:ea</td>\n",
       "      <td>192.168.1.239</td>\n",
       "      <td>104.154.46.102</td>\n",
       "      <td>52592.0</td>\n",
       "      <td>443.0</td>\n",
       "      <td>31</td>\n",
       "      <td>3800</td>\n",
       "      <td>0</td>\n",
       "      <td>False</td>\n",
       "      <td>Samsung Galaxy Tab</td>\n",
       "    </tr>\n",
       "    <tr>\n",
       "      <th>1</th>\n",
       "      <td>1474557332454</td>\n",
       "      <td>1474557332478</td>\n",
       "      <td>24</td>\n",
       "      <td>Ethernet</td>\n",
       "      <td>IPv4</td>\n",
       "      <td>TCP</td>\n",
       "      <td>NaN</td>\n",
       "      <td>ec:1a:59:79:f4:89</td>\n",
       "      <td>ec:1a:59:83:28:11</td>\n",
       "      <td>192.168.1.223</td>\n",
       "      <td>192.168.1.193</td>\n",
       "      <td>49153.0</td>\n",
       "      <td>4568.0</td>\n",
       "      <td>7</td>\n",
       "      <td>4087</td>\n",
       "      <td>0</td>\n",
       "      <td>True</td>\n",
       "      <td>Belkin Wemo switch</td>\n",
       "    </tr>\n",
       "    <tr>\n",
       "      <th>2</th>\n",
       "      <td>1474553105676</td>\n",
       "      <td>1474553105703</td>\n",
       "      <td>27</td>\n",
       "      <td>Ethernet</td>\n",
       "      <td>IPv4</td>\n",
       "      <td>TCP</td>\n",
       "      <td>NaN</td>\n",
       "      <td>ec:1a:59:79:f4:89</td>\n",
       "      <td>ec:1a:59:83:28:11</td>\n",
       "      <td>192.168.1.223</td>\n",
       "      <td>192.168.1.193</td>\n",
       "      <td>49153.0</td>\n",
       "      <td>3391.0</td>\n",
       "      <td>7</td>\n",
       "      <td>4087</td>\n",
       "      <td>0</td>\n",
       "      <td>True</td>\n",
       "      <td>Belkin Wemo switch</td>\n",
       "    </tr>\n",
       "    <tr>\n",
       "      <th>3</th>\n",
       "      <td>1474555533365</td>\n",
       "      <td>1474555533404</td>\n",
       "      <td>39</td>\n",
       "      <td>Ethernet</td>\n",
       "      <td>IPv4</td>\n",
       "      <td>TCP</td>\n",
       "      <td>NaN</td>\n",
       "      <td>ec:1a:59:83:28:11</td>\n",
       "      <td>ec:1a:59:79:f4:89</td>\n",
       "      <td>192.168.1.193</td>\n",
       "      <td>192.168.1.223</td>\n",
       "      <td>4898.0</td>\n",
       "      <td>49153.0</td>\n",
       "      <td>7</td>\n",
       "      <td>653</td>\n",
       "      <td>0</td>\n",
       "      <td>True</td>\n",
       "      <td>Belkin wemo motion sensor</td>\n",
       "    </tr>\n",
       "    <tr>\n",
       "      <th>4</th>\n",
       "      <td>1474557197359</td>\n",
       "      <td>1474557197411</td>\n",
       "      <td>52</td>\n",
       "      <td>Ethernet</td>\n",
       "      <td>IPv4</td>\n",
       "      <td>TCP</td>\n",
       "      <td>NaN</td>\n",
       "      <td>ec:1a:59:79:f4:89</td>\n",
       "      <td>ec:1a:59:83:28:11</td>\n",
       "      <td>192.168.1.223</td>\n",
       "      <td>192.168.1.193</td>\n",
       "      <td>49153.0</td>\n",
       "      <td>4555.0</td>\n",
       "      <td>7</td>\n",
       "      <td>4087</td>\n",
       "      <td>0</td>\n",
       "      <td>True</td>\n",
       "      <td>Belkin Wemo switch</td>\n",
       "    </tr>\n",
       "  </tbody>\n",
       "</table>\n",
       "</div>"
      ],
      "text/plain": [
       "   timeStampFirst  timeStampLast  duration linkProtocol networkProtocol  \\\n",
       "0   1474553345790  1474554007847    662057     Ethernet            IPv4   \n",
       "1   1474557332454  1474557332478        24     Ethernet            IPv4   \n",
       "2   1474553105676  1474553105703        27     Ethernet            IPv4   \n",
       "3   1474555533365  1474555533404        39     Ethernet            IPv4   \n",
       "4   1474557197359  1474557197411        52     Ethernet            IPv4   \n",
       "\n",
       "  transportProtocol applicationProtocol             srcMac             dstMac  \\\n",
       "0               TCP                 NaN  08:21:ef:3b:fc:e3  14:cc:20:51:33:ea   \n",
       "1               TCP                 NaN  ec:1a:59:79:f4:89  ec:1a:59:83:28:11   \n",
       "2               TCP                 NaN  ec:1a:59:79:f4:89  ec:1a:59:83:28:11   \n",
       "3               TCP                 NaN  ec:1a:59:83:28:11  ec:1a:59:79:f4:89   \n",
       "4               TCP                 NaN  ec:1a:59:79:f4:89  ec:1a:59:83:28:11   \n",
       "\n",
       "           srcIP           dstIP  srcPort  dstPort  packetCount  \\\n",
       "0  192.168.1.239  104.154.46.102  52592.0    443.0           31   \n",
       "1  192.168.1.223   192.168.1.193  49153.0   4568.0            7   \n",
       "2  192.168.1.223   192.168.1.193  49153.0   3391.0            7   \n",
       "3  192.168.1.193   192.168.1.223   4898.0  49153.0            7   \n",
       "4  192.168.1.223   192.168.1.193  49153.0   4555.0            7   \n",
       "\n",
       "   totalPayloadByte  appplicationPayloadByte    iot                     device  \n",
       "0              3800                        0  False         Samsung Galaxy Tab  \n",
       "1              4087                        0   True         Belkin Wemo switch  \n",
       "2              4087                        0   True         Belkin Wemo switch  \n",
       "3               653                        0   True  Belkin wemo motion sensor  \n",
       "4              4087                        0   True         Belkin Wemo switch  "
      ]
     },
     "execution_count": 2,
     "metadata": {},
     "output_type": "execute_result"
    }
   ],
   "source": [
    "df.head()"
   ]
  },
  {
   "cell_type": "code",
   "execution_count": 3,
   "metadata": {},
   "outputs": [
    {
     "data": {
      "text/plain": [
       "iot\n",
       "False     61661\n",
       "True     308088\n",
       "dtype: int64"
      ]
     },
     "execution_count": 3,
     "metadata": {},
     "output_type": "execute_result"
    }
   ],
   "source": [
    "df.groupby('iot').size()"
   ]
  },
  {
   "cell_type": "code",
   "execution_count": 6,
   "metadata": {
    "scrolled": true
   },
   "outputs": [
    {
     "data": {
      "text/plain": [
       "device\n",
       "Belkin wemo motion sensor           85119\n",
       "Belkin Wemo switch                  60730\n",
       "Samsung SmartCam                    49716\n",
       "Amazon Echo                         43793\n",
       "Insteon Camera                      32589\n",
       "Laptop                              31019\n",
       "Samsung Galaxy Tab                  20773\n",
       "MacBook                              6932\n",
       "Light Bulbs LiFX Smart Bulb          6743\n",
       "Withings Smart Baby Monitor          6224\n",
       "Netatmo Welcome                      5250\n",
       "Withings Aura smart sleep sensor     3896\n",
       "Netatmo weather station              3239\n",
       "TP-Link Day Night Cloud camera       3087\n",
       "Android Phone                        2580\n",
       "PIX-STAR Photo-frame                 2330\n",
       "HP Printer                           1792\n",
       "Triby Speaker                        1260\n",
       "Smart Things                          995\n",
       "TP-Link Smart plug                    636\n",
       "iHome                                 377\n",
       "MacBook/Iphone                        294\n",
       "NEST Protect smoke alarm              116\n",
       "Dropcam                                85\n",
       "Withings Smart scale                   71\n",
       "IPhone                                 63\n",
       "Nest Dropcam                           34\n",
       "Blipcare Blood Pressure meter           6\n",
       "dtype: int64"
      ]
     },
     "execution_count": 6,
     "metadata": {},
     "output_type": "execute_result"
    }
   ],
   "source": [
    "df.groupby('device').size().sort_values(ascending=False)"
   ]
  },
  {
   "cell_type": "code",
   "execution_count": 14,
   "metadata": {},
   "outputs": [
    {
     "data": {
      "text/plain": [
       "iot    transportProtocol\n",
       "False  TCP                   43313\n",
       "       UDP                   18348\n",
       "True   TCP                  230389\n",
       "       UDP                   77699\n",
       "dtype: int64"
      ]
     },
     "execution_count": 14,
     "metadata": {},
     "output_type": "execute_result"
    }
   ],
   "source": [
    "df.groupby(['iot', 'transportProtocol']).size()"
   ]
  },
  {
   "cell_type": "code",
   "execution_count": 15,
   "metadata": {},
   "outputs": [
    {
     "data": {
      "text/plain": [
       "iot    networkProtocol\n",
       "False  IPv4                58674\n",
       "       IPv6                 2987\n",
       "True   IPv4               307722\n",
       "       IPv6                  366\n",
       "dtype: int64"
      ]
     },
     "execution_count": 15,
     "metadata": {},
     "output_type": "execute_result"
    }
   ],
   "source": [
    "df.groupby(['iot', 'networkProtocol']).size()"
   ]
  },
  {
   "cell_type": "code",
   "execution_count": 22,
   "metadata": {},
   "outputs": [
    {
     "data": {
      "text/plain": [
       "iot    applicationProtocol\n",
       "False  DNS                     4692\n",
       "       NTP                       51\n",
       "       Payload                16066\n",
       "True   DNS                    42460\n",
       "       NTP                    26359\n",
       "       Payload                 9923\n",
       "dtype: int64"
      ]
     },
     "execution_count": 22,
     "metadata": {},
     "output_type": "execute_result"
    }
   ],
   "source": [
    "df.groupby(['iot', 'applicationProtocol']).size()"
   ]
  },
  {
   "cell_type": "code",
   "execution_count": 3,
   "metadata": {},
   "outputs": [],
   "source": [
    "iot_df = df[df.iot == True]\n",
    "niot_df = df[df.iot == False]"
   ]
  },
  {
   "cell_type": "code",
   "execution_count": 37,
   "metadata": {},
   "outputs": [
    {
     "data": {
      "text/plain": [
       "22.691808833839684"
      ]
     },
     "execution_count": 37,
     "metadata": {},
     "output_type": "execute_result"
    }
   ],
   "source": [
    "iot_df['packetCount'].mean()"
   ]
  },
  {
   "cell_type": "code",
   "execution_count": 38,
   "metadata": {},
   "outputs": [
    {
     "data": {
      "text/plain": [
       "57.618089229821116"
      ]
     },
     "execution_count": 38,
     "metadata": {},
     "output_type": "execute_result"
    }
   ],
   "source": [
    "niot_df['packetCount'].mean()"
   ]
  },
  {
   "cell_type": "code",
   "execution_count": 41,
   "metadata": {},
   "outputs": [
    {
     "data": {
      "text/plain": [
       "5353.540498169355"
      ]
     },
     "execution_count": 41,
     "metadata": {},
     "output_type": "execute_result"
    }
   ],
   "source": [
    "iot_df['totalPayloadByte'].mean()"
   ]
  },
  {
   "cell_type": "code",
   "execution_count": 42,
   "metadata": {},
   "outputs": [
    {
     "data": {
      "text/plain": [
       "6803.638523540001"
      ]
     },
     "execution_count": 42,
     "metadata": {},
     "output_type": "execute_result"
    }
   ],
   "source": [
    "niot_df['totalPayloadByte'].mean()"
   ]
  },
  {
   "cell_type": "code",
   "execution_count": 43,
   "metadata": {},
   "outputs": [
    {
     "data": {
      "text/plain": [
       "5.049021708083405"
      ]
     },
     "execution_count": 43,
     "metadata": {},
     "output_type": "execute_result"
    }
   ],
   "source": [
    "iot_df['appplicationPayloadByte'].mean()"
   ]
  },
  {
   "cell_type": "code",
   "execution_count": 44,
   "metadata": {},
   "outputs": [
    {
     "data": {
      "text/plain": [
       "138.13222296102884"
      ]
     },
     "execution_count": 44,
     "metadata": {},
     "output_type": "execute_result"
    }
   ],
   "source": [
    "niot_df['appplicationPayloadByte'].mean()"
   ]
  },
  {
   "cell_type": "code",
   "execution_count": 73,
   "metadata": {},
   "outputs": [],
   "source": [
    "sample_iot_df = iot_df.sample(n=61661)"
   ]
  },
  {
   "cell_type": "code",
   "execution_count": 74,
   "metadata": {},
   "outputs": [
    {
     "data": {
      "text/plain": [
       "device\n",
       "Amazon Echo                          8766\n",
       "Belkin Wemo switch                  12251\n",
       "Belkin wemo motion sensor           16833\n",
       "Blipcare Blood Pressure meter           2\n",
       "Dropcam                                13\n",
       "HP Printer                            357\n",
       "Insteon Camera                       6580\n",
       "Light Bulbs LiFX Smart Bulb          1367\n",
       "NEST Protect smoke alarm               23\n",
       "Nest Dropcam                           10\n",
       "Netatmo Welcome                      1009\n",
       "Netatmo weather station               650\n",
       "PIX-STAR Photo-frame                  477\n",
       "Samsung SmartCam                    10035\n",
       "Smart Things                          181\n",
       "TP-Link Day Night Cloud camera        644\n",
       "TP-Link Smart plug                    100\n",
       "Triby Speaker                         261\n",
       "Withings Aura smart sleep sensor      775\n",
       "Withings Smart Baby Monitor          1251\n",
       "Withings Smart scale                   12\n",
       "iHome                                  64\n",
       "dtype: int64"
      ]
     },
     "execution_count": 74,
     "metadata": {},
     "output_type": "execute_result"
    }
   ],
   "source": [
    "sample_iot_df.groupby('device').size()"
   ]
  },
  {
   "cell_type": "code",
   "execution_count": 76,
   "metadata": {},
   "outputs": [],
   "source": [
    "concat_df = pd.concat([sample_iot_df, niot_df], ignore_index=True)"
   ]
  },
  {
   "cell_type": "code",
   "execution_count": 77,
   "metadata": {},
   "outputs": [
    {
     "data": {
      "text/plain": [
       "(123322, 18)"
      ]
     },
     "execution_count": 77,
     "metadata": {},
     "output_type": "execute_result"
    }
   ],
   "source": [
    "concat_df.shape"
   ]
  },
  {
   "cell_type": "code",
   "execution_count": 78,
   "metadata": {},
   "outputs": [
    {
     "data": {
      "text/plain": [
       "iot\n",
       "False    61661\n",
       "True     61661\n",
       "dtype: int64"
      ]
     },
     "execution_count": 78,
     "metadata": {},
     "output_type": "execute_result"
    }
   ],
   "source": [
    "concat_df.to_csv('../sample_csv_data/downsampling_iot_')"
   ]
  },
  {
   "cell_type": "code",
   "execution_count": 7,
   "metadata": {},
   "outputs": [
    {
     "data": {
      "text/plain": [
       "array(['Samsung Galaxy Tab', 'Belkin Wemo switch',\n",
       "       'Belkin wemo motion sensor', 'Samsung SmartCam', 'Amazon Echo',\n",
       "       'Withings Smart Baby Monitor', 'Netatmo Welcome', 'HP Printer',\n",
       "       'TP-Link Day Night Cloud camera', 'PIX-STAR Photo-frame',\n",
       "       'Triby Speaker', 'Netatmo weather station', 'Smart Things',\n",
       "       'TP-Link Smart plug', 'Withings Smart scale',\n",
       "       'NEST Protect smoke alarm', 'Dropcam', 'Laptop', 'Android Phone',\n",
       "       'IPhone', 'Blipcare Blood Pressure meter', 'MacBook',\n",
       "       'Withings Aura smart sleep sensor', 'Light Bulbs LiFX Smart Bulb',\n",
       "       'iHome', 'Insteon Camera', 'MacBook/Iphone', 'Nest Dropcam'],\n",
       "      dtype=object)"
      ]
     },
     "execution_count": 7,
     "metadata": {},
     "output_type": "execute_result"
    }
   ],
   "source": [
    "df['device'].unique()"
   ]
  },
  {
   "cell_type": "code",
   "execution_count": 40,
   "metadata": {},
   "outputs": [],
   "source": [
    "target_device = [\n",
    "    'Belkin wemo motion sensor',\n",
    "    'Belkin Wemo switch',\n",
    "    'Samsung SmartCam',\n",
    "    'Amazon Echo',\n",
    "    'Insteon Camera',\n",
    "    'Light Bulbs LiFX Smart Bulb',\n",
    "    'Withings Smart Baby Monitor',\n",
    "    'Netatmo Welcome',\n",
    "    'Withings Aura smart sleep sensor',     \n",
    "    'Netatmo weather station',    \n",
    "    'TP-Link Day Night Cloud camera',                               \n",
    "    'PIX-STAR Photo-frame',                 \n",
    "    'HP Printer',                          \n",
    "    'Triby Speaker'                            \n",
    "]\n",
    "\n",
    "non_iot_target = [\n",
    "    'Laptop',\n",
    "    'Samsung Galaxy Tab',\n",
    "    'MacBook',\n",
    "    'Android Phone',\n",
    "    'MacBook/Iphone',\n",
    "    'IPhone'\n",
    "]"
   ]
  },
  {
   "cell_type": "code",
   "execution_count": 41,
   "metadata": {},
   "outputs": [],
   "source": [
    "device_df = []\n",
    "for t in target_device:\n",
    "    device_df.append(df[df.device == t].sample(1000))"
   ]
  },
  {
   "cell_type": "code",
   "execution_count": 42,
   "metadata": {},
   "outputs": [],
   "source": [
    "non_iot_df = []\n",
    "for t in non_iot_target:\n",
    "    non_iot_df.append(df[df.device == t])"
   ]
  },
  {
   "cell_type": "code",
   "execution_count": 43,
   "metadata": {},
   "outputs": [],
   "source": [
    "non_iot_df_merged = pd.concat(non_iot_df)"
   ]
  },
  {
   "cell_type": "code",
   "execution_count": 44,
   "metadata": {},
   "outputs": [],
   "source": [
    "sample_non_iot_df = non_iot_df_merged.sample(1000)"
   ]
  },
  {
   "cell_type": "code",
   "execution_count": 45,
   "metadata": {},
   "outputs": [],
   "source": [
    "device_df.append(sample_non_iot_df)"
   ]
  },
  {
   "cell_type": "code",
   "execution_count": 46,
   "metadata": {},
   "outputs": [],
   "source": [
    "output_device_df = pd.concat(device_df)"
   ]
  },
  {
   "cell_type": "code",
   "execution_count": 47,
   "metadata": {},
   "outputs": [
    {
     "data": {
      "text/plain": [
       "device\n",
       "Amazon Echo                         1000\n",
       "Android Phone                         35\n",
       "Belkin Wemo switch                  1000\n",
       "Belkin wemo motion sensor           1000\n",
       "HP Printer                          1000\n",
       "Insteon Camera                      1000\n",
       "Laptop                               519\n",
       "Light Bulbs LiFX Smart Bulb         1000\n",
       "MacBook                              107\n",
       "MacBook/Iphone                         9\n",
       "Netatmo Welcome                     1000\n",
       "Netatmo weather station             1000\n",
       "PIX-STAR Photo-frame                1000\n",
       "Samsung Galaxy Tab                   330\n",
       "Samsung SmartCam                    1000\n",
       "TP-Link Day Night Cloud camera      1000\n",
       "Triby Speaker                       1000\n",
       "Withings Aura smart sleep sensor    1000\n",
       "Withings Smart Baby Monitor         1000\n",
       "dtype: int64"
      ]
     },
     "execution_count": 47,
     "metadata": {},
     "output_type": "execute_result"
    }
   ],
   "source": [
    "output_device_df.groupby('device').size()"
   ]
  },
  {
   "cell_type": "code",
   "execution_count": 48,
   "metadata": {},
   "outputs": [],
   "source": [
    "for index,row in output_device_df.iterrows():\n",
    "    if row.device in non_iot_target:\n",
    "        output_device_df.at[index, \"device\"] = \"Not IOT\""
   ]
  },
  {
   "cell_type": "code",
   "execution_count": 49,
   "metadata": {},
   "outputs": [
    {
     "data": {
      "text/plain": [
       "device\n",
       "Amazon Echo                         1000\n",
       "Belkin Wemo switch                  1000\n",
       "Belkin wemo motion sensor           1000\n",
       "HP Printer                          1000\n",
       "Insteon Camera                      1000\n",
       "Light Bulbs LiFX Smart Bulb         1000\n",
       "Netatmo Welcome                     1000\n",
       "Netatmo weather station             1000\n",
       "Not IOT                             1000\n",
       "PIX-STAR Photo-frame                1000\n",
       "Samsung SmartCam                    1000\n",
       "TP-Link Day Night Cloud camera      1000\n",
       "Triby Speaker                       1000\n",
       "Withings Aura smart sleep sensor    1000\n",
       "Withings Smart Baby Monitor         1000\n",
       "dtype: int64"
      ]
     },
     "execution_count": 49,
     "metadata": {},
     "output_type": "execute_result"
    }
   ],
   "source": [
    "output_device_df.groupby('device').size()"
   ]
  },
  {
   "cell_type": "code",
   "execution_count": 51,
   "metadata": {},
   "outputs": [],
   "source": [
    "output_device_df.to_csv('../sample_csv_data/multi_device_downsampling_flow.csv')"
   ]
  },
  {
   "cell_type": "code",
   "execution_count": 8,
   "metadata": {},
   "outputs": [
    {
     "data": {
      "text/plain": [
       "srcIP\n",
       "192.168.1.193                85144\n",
       "192.168.1.223                60735\n",
       "192.168.1.249                49663\n",
       "192.168.1.240                43788\n",
       "192.168.1.192                32520\n",
       "192.168.1.118                 6739\n",
       "192.168.1.166                 6212\n",
       "192.168.1.241                 5238\n",
       "192.168.1.156                 3886\n",
       "192.168.1.112                 3118\n",
       "192.168.1.143                 3083\n",
       "192.168.1.177                 2329\n",
       "192.168.1.236                 1464\n",
       "192.168.1.120                 1255\n",
       "192.168.1.196                  886\n",
       "192.168.1.227                  637\n",
       "192.168.1.163                  351\n",
       "fe80::725a:fff:fee4:9bc0       322\n",
       "0.0.0.0                        211\n",
       "192.168.1.168                  116\n",
       "192.168.1.1                    114\n",
       "192.168.1.238                   69\n",
       "192.168.1.106                   68\n",
       "192.168.1.237                   34\n",
       "fe80::216:6cff:feab:6b88        30\n",
       "fe80::76c6:3bff:fe29:d71d       11\n",
       "192.168.1.239                   10\n",
       "192.168.1.243                    9\n",
       "192.168.10.1                     6\n",
       "8.8.8.8                          6\n",
       "192.168.1.131                    6\n",
       "93.184.216.34                    4\n",
       "104.98.5.24                      2\n",
       "fe80::a21:efff:fe3b:fce3         1\n",
       "62.210.177.216                   1\n",
       "129.250.35.250                   1\n",
       "132.163.4.103                    1\n",
       "173.223.175.181                  1\n",
       "184.73.179.203                   1\n",
       "fe80::16cc:20ff:fe51:33ea        1\n",
       "89.30.121.150                    1\n",
       "72.21.192.213                    1\n",
       "192.168.1.145                    1\n",
       "54.84.226.119                    1\n",
       "54.251.46.85                     1\n",
       "54.192.134.29                    1\n",
       "52.77.40.27                      1\n",
       "52.74.243.48                     1\n",
       "52.44.164.140                    1\n",
       "50.7.44.82                       1\n",
       "46.105.202.21                    1\n",
       "23.12.64.41                      1\n",
       "216.58.220.131                   1\n",
       "203.100.61.10                    1\n",
       "fe80::d9f9:ebd9:7242:4961        1\n",
       "dtype: int64"
      ]
     },
     "execution_count": 8,
     "metadata": {},
     "output_type": "execute_result"
    }
   ],
   "source": [
    "iot_df.groupby('srcIP').size().sort_values(ascending=False)"
   ]
  },
  {
   "cell_type": "code",
   "execution_count": null,
   "metadata": {},
   "outputs": [],
   "source": []
  }
 ],
 "metadata": {
  "kernelspec": {
   "display_name": "Python 3",
   "language": "python",
   "name": "python3"
  },
  "language_info": {
   "codemirror_mode": {
    "name": "ipython",
    "version": 3
   },
   "file_extension": ".py",
   "mimetype": "text/x-python",
   "name": "python",
   "nbconvert_exporter": "python",
   "pygments_lexer": "ipython3",
   "version": "3.6.4"
  }
 },
 "nbformat": 4,
 "nbformat_minor": 2
}
