{
 "cells": [
  {
   "cell_type": "code",
   "execution_count": 1,
   "metadata": {},
   "outputs": [],
   "source": [
    "import pandas as pd\n",
    "pd.set_option('display.max_columns', None)  "
   ]
  },
  {
   "cell_type": "code",
   "execution_count": 2,
   "metadata": {},
   "outputs": [],
   "source": [
    "df = pd.read_csv('../sample_csv_data/flow-label.csv')\n",
    "df = df.drop(columns=['Unnamed: 0'])"
   ]
  },
  {
   "cell_type": "code",
   "execution_count": 3,
   "metadata": {},
   "outputs": [
    {
     "data": {
      "text/html": [
       "<div>\n",
       "<style scoped>\n",
       "    .dataframe tbody tr th:only-of-type {\n",
       "        vertical-align: middle;\n",
       "    }\n",
       "\n",
       "    .dataframe tbody tr th {\n",
       "        vertical-align: top;\n",
       "    }\n",
       "\n",
       "    .dataframe thead th {\n",
       "        text-align: right;\n",
       "    }\n",
       "</style>\n",
       "<table border=\"1\" class=\"dataframe\">\n",
       "  <thead>\n",
       "    <tr style=\"text-align: right;\">\n",
       "      <th></th>\n",
       "      <th>timeStampFirst</th>\n",
       "      <th>timeStampLast</th>\n",
       "      <th>duration</th>\n",
       "      <th>linkProtocol</th>\n",
       "      <th>networkProtocol</th>\n",
       "      <th>transportProtocol</th>\n",
       "      <th>applicationProtocol</th>\n",
       "      <th>srcMac</th>\n",
       "      <th>dstMac</th>\n",
       "      <th>srcIP</th>\n",
       "      <th>dstIP</th>\n",
       "      <th>srcPort</th>\n",
       "      <th>dstPort</th>\n",
       "      <th>packetCount</th>\n",
       "      <th>totalPayloadByte</th>\n",
       "      <th>appplicationPayloadByte</th>\n",
       "      <th>iot</th>\n",
       "      <th>device</th>\n",
       "    </tr>\n",
       "  </thead>\n",
       "  <tbody>\n",
       "    <tr>\n",
       "      <th>0</th>\n",
       "      <td>1474553345790</td>\n",
       "      <td>1474554007847</td>\n",
       "      <td>662057</td>\n",
       "      <td>Ethernet</td>\n",
       "      <td>IPv4</td>\n",
       "      <td>TCP</td>\n",
       "      <td>NaN</td>\n",
       "      <td>08:21:ef:3b:fc:e3</td>\n",
       "      <td>14:cc:20:51:33:ea</td>\n",
       "      <td>192.168.1.239</td>\n",
       "      <td>104.154.46.102</td>\n",
       "      <td>52592.0</td>\n",
       "      <td>443.0</td>\n",
       "      <td>31</td>\n",
       "      <td>3800</td>\n",
       "      <td>0</td>\n",
       "      <td>False</td>\n",
       "      <td>Samsung Galaxy Tab</td>\n",
       "    </tr>\n",
       "    <tr>\n",
       "      <th>1</th>\n",
       "      <td>1474557332454</td>\n",
       "      <td>1474557332478</td>\n",
       "      <td>24</td>\n",
       "      <td>Ethernet</td>\n",
       "      <td>IPv4</td>\n",
       "      <td>TCP</td>\n",
       "      <td>NaN</td>\n",
       "      <td>ec:1a:59:79:f4:89</td>\n",
       "      <td>ec:1a:59:83:28:11</td>\n",
       "      <td>192.168.1.223</td>\n",
       "      <td>192.168.1.193</td>\n",
       "      <td>49153.0</td>\n",
       "      <td>4568.0</td>\n",
       "      <td>7</td>\n",
       "      <td>4087</td>\n",
       "      <td>0</td>\n",
       "      <td>True</td>\n",
       "      <td>Belkin Wemo switch</td>\n",
       "    </tr>\n",
       "    <tr>\n",
       "      <th>2</th>\n",
       "      <td>1474553105676</td>\n",
       "      <td>1474553105703</td>\n",
       "      <td>27</td>\n",
       "      <td>Ethernet</td>\n",
       "      <td>IPv4</td>\n",
       "      <td>TCP</td>\n",
       "      <td>NaN</td>\n",
       "      <td>ec:1a:59:79:f4:89</td>\n",
       "      <td>ec:1a:59:83:28:11</td>\n",
       "      <td>192.168.1.223</td>\n",
       "      <td>192.168.1.193</td>\n",
       "      <td>49153.0</td>\n",
       "      <td>3391.0</td>\n",
       "      <td>7</td>\n",
       "      <td>4087</td>\n",
       "      <td>0</td>\n",
       "      <td>True</td>\n",
       "      <td>Belkin Wemo switch</td>\n",
       "    </tr>\n",
       "    <tr>\n",
       "      <th>3</th>\n",
       "      <td>1474555533365</td>\n",
       "      <td>1474555533404</td>\n",
       "      <td>39</td>\n",
       "      <td>Ethernet</td>\n",
       "      <td>IPv4</td>\n",
       "      <td>TCP</td>\n",
       "      <td>NaN</td>\n",
       "      <td>ec:1a:59:83:28:11</td>\n",
       "      <td>ec:1a:59:79:f4:89</td>\n",
       "      <td>192.168.1.193</td>\n",
       "      <td>192.168.1.223</td>\n",
       "      <td>4898.0</td>\n",
       "      <td>49153.0</td>\n",
       "      <td>7</td>\n",
       "      <td>653</td>\n",
       "      <td>0</td>\n",
       "      <td>True</td>\n",
       "      <td>Belkin wemo motion sensor</td>\n",
       "    </tr>\n",
       "    <tr>\n",
       "      <th>4</th>\n",
       "      <td>1474557197359</td>\n",
       "      <td>1474557197411</td>\n",
       "      <td>52</td>\n",
       "      <td>Ethernet</td>\n",
       "      <td>IPv4</td>\n",
       "      <td>TCP</td>\n",
       "      <td>NaN</td>\n",
       "      <td>ec:1a:59:79:f4:89</td>\n",
       "      <td>ec:1a:59:83:28:11</td>\n",
       "      <td>192.168.1.223</td>\n",
       "      <td>192.168.1.193</td>\n",
       "      <td>49153.0</td>\n",
       "      <td>4555.0</td>\n",
       "      <td>7</td>\n",
       "      <td>4087</td>\n",
       "      <td>0</td>\n",
       "      <td>True</td>\n",
       "      <td>Belkin Wemo switch</td>\n",
       "    </tr>\n",
       "  </tbody>\n",
       "</table>\n",
       "</div>"
      ],
      "text/plain": [
       "   timeStampFirst  timeStampLast  duration linkProtocol networkProtocol  \\\n",
       "0   1474553345790  1474554007847    662057     Ethernet            IPv4   \n",
       "1   1474557332454  1474557332478        24     Ethernet            IPv4   \n",
       "2   1474553105676  1474553105703        27     Ethernet            IPv4   \n",
       "3   1474555533365  1474555533404        39     Ethernet            IPv4   \n",
       "4   1474557197359  1474557197411        52     Ethernet            IPv4   \n",
       "\n",
       "  transportProtocol applicationProtocol             srcMac             dstMac  \\\n",
       "0               TCP                 NaN  08:21:ef:3b:fc:e3  14:cc:20:51:33:ea   \n",
       "1               TCP                 NaN  ec:1a:59:79:f4:89  ec:1a:59:83:28:11   \n",
       "2               TCP                 NaN  ec:1a:59:79:f4:89  ec:1a:59:83:28:11   \n",
       "3               TCP                 NaN  ec:1a:59:83:28:11  ec:1a:59:79:f4:89   \n",
       "4               TCP                 NaN  ec:1a:59:79:f4:89  ec:1a:59:83:28:11   \n",
       "\n",
       "           srcIP           dstIP  srcPort  dstPort  packetCount  \\\n",
       "0  192.168.1.239  104.154.46.102  52592.0    443.0           31   \n",
       "1  192.168.1.223   192.168.1.193  49153.0   4568.0            7   \n",
       "2  192.168.1.223   192.168.1.193  49153.0   3391.0            7   \n",
       "3  192.168.1.193   192.168.1.223   4898.0  49153.0            7   \n",
       "4  192.168.1.223   192.168.1.193  49153.0   4555.0            7   \n",
       "\n",
       "   totalPayloadByte  appplicationPayloadByte    iot                     device  \n",
       "0              3800                        0  False         Samsung Galaxy Tab  \n",
       "1              4087                        0   True         Belkin Wemo switch  \n",
       "2              4087                        0   True         Belkin Wemo switch  \n",
       "3               653                        0   True  Belkin wemo motion sensor  \n",
       "4              4087                        0   True         Belkin Wemo switch  "
      ]
     },
     "execution_count": 3,
     "metadata": {},
     "output_type": "execute_result"
    }
   ],
   "source": [
    "df.head()"
   ]
  },
  {
   "cell_type": "code",
   "execution_count": 4,
   "metadata": {},
   "outputs": [],
   "source": [
    "iot_df = df[df.iot == True]\n",
    "non_iot_df = df[df.iot == False]"
   ]
  },
  {
   "cell_type": "code",
   "execution_count": 5,
   "metadata": {},
   "outputs": [
    {
     "name": "stdout",
     "output_type": "stream",
     "text": [
      "(['192.168.1.193', '192.168.1.223', '192.168.1.1', '192.168.1.249', '8.8.8.8', '93.184.216.34', '24.56.178.140', '89.30.121.150', '104.98.5.24', '216.229.0.179'], [83153, 57127, 24799, 23689, 19780, 17484, 10194, 9160, 5340, 3535])\n"
     ]
    }
   ],
   "source": [
    "# def get_keys_values(df, target):\n",
    "#     keys = list(dict(df.groupby([target]).size().sort_values(ascending=False)).keys())[:10]\n",
    "#     values = list(dict(df.groupby([target]).size().sort_values(ascending=False)).values())[:10]\n",
    "#     keys = ['port: '+ str(k) for k in keys]\n",
    "#     return keys, values\n",
    "# print(get_keys_values(iot_df, 'dstIP'))"
   ]
  },
  {
   "cell_type": "code",
   "execution_count": 7,
   "metadata": {},
   "outputs": [
    {
     "data": {
      "text/plain": [
       "dstIP\n",
       "192.168.1.193                84558\n",
       "192.168.1.223                57333\n",
       "192.168.1.1                  30363\n",
       "192.168.1.249                24346\n",
       "8.8.8.8                      19798\n",
       "93.184.216.34                17484\n",
       "24.56.178.140                10196\n",
       "89.30.121.150                 9225\n",
       "239.255.255.250               5911\n",
       "104.98.5.24                   5349\n",
       "216.229.0.179                 3535\n",
       "192.168.1.208                 3005\n",
       "173.223.175.181               2619\n",
       "fe80::16cc:20ff:fe51:33ea     2154\n",
       "128.138.141.172               1450\n",
       "176.31.232.79                 1144\n",
       "132.163.4.101                 1012\n",
       "192.168.1.236                 1001\n",
       "131.107.13.100                 995\n",
       "192.168.1.239                  951\n",
       "dtype: int64"
      ]
     },
     "execution_count": 7,
     "metadata": {},
     "output_type": "execute_result"
    }
   ],
   "source": [
    "df.groupby('dstIP').size().sort_values(ascending=False)[:20]"
   ]
  },
  {
   "cell_type": "code",
   "execution_count": 13,
   "metadata": {},
   "outputs": [
    {
     "name": "stderr",
     "output_type": "stream",
     "text": [
      "/anaconda3/lib/python3.6/site-packages/ipykernel_launcher.py:1: UserWarning: Boolean Series key will be reindexed to match DataFrame index.\n",
      "  \"\"\"Entry point for launching an IPython kernel.\n"
     ]
    },
    {
     "data": {
      "text/plain": [
       "device\n",
       "Insteon Camera                         1\n",
       "Withings Aura smart sleep sensor    3547\n",
       "Withings Smart Baby Monitor         5577\n",
       "Withings Smart scale                  35\n",
       "dtype: int64"
      ]
     },
     "execution_count": 13,
     "metadata": {},
     "output_type": "execute_result"
    }
   ],
   "source": [
    "iot_df[df.dstIP == '89.30.121.150'].groupby('device').size()"
   ]
  },
  {
   "cell_type": "code",
   "execution_count": 9,
   "metadata": {},
   "outputs": [
    {
     "data": {
      "text/plain": [
       "dstIP\n",
       "192.168.1.1                  5564\n",
       "239.255.255.250              5132\n",
       "fe80::16cc:20ff:fe51:33ea    2152\n",
       "192.168.1.193                1405\n",
       "192.168.1.236                1001\n",
       "172.217.25.174                820\n",
       "104.154.46.102                800\n",
       "216.58.199.78                 767\n",
       "216.58.220.110                695\n",
       "255.255.255.255               684\n",
       "192.168.1.249                 657\n",
       "111.206.200.2                 642\n",
       "172.217.25.46                 575\n",
       "216.58.199.46                 553\n",
       "40.78.98.202                  546\n",
       "179.60.193.3                  391\n",
       "216.58.220.142                363\n",
       "64.233.189.188                345\n",
       "68.232.45.201                 341\n",
       "ff02::1:3                     338\n",
       "dtype: int64"
      ]
     },
     "execution_count": 9,
     "metadata": {},
     "output_type": "execute_result"
    }
   ],
   "source": [
    "non_iot_df.groupby('dstIP').size().sort_values(ascending=False)[:20]"
   ]
  },
  {
   "cell_type": "code",
   "execution_count": 19,
   "metadata": {},
   "outputs": [
    {
     "name": "stderr",
     "output_type": "stream",
     "text": [
      "/anaconda3/lib/python3.6/site-packages/ipykernel_launcher.py:1: UserWarning: Boolean Series key will be reindexed to match DataFrame index.\n",
      "  \"\"\"Entry point for launching an IPython kernel.\n"
     ]
    },
    {
     "data": {
      "text/plain": [
       "device\n",
       "Android Phone            4\n",
       "Laptop                5048\n",
       "MacBook                  9\n",
       "MacBook/Iphone          10\n",
       "Samsung Galaxy Tab      61\n",
       "dtype: int64"
      ]
     },
     "execution_count": 19,
     "metadata": {},
     "output_type": "execute_result"
    }
   ],
   "source": [
    "non_iot_df[df.dstIP == '239.255.255.250'].groupby('device').size()"
   ]
  },
  {
   "cell_type": "code",
   "execution_count": null,
   "metadata": {},
   "outputs": [],
   "source": []
  }
 ],
 "metadata": {
  "kernelspec": {
   "display_name": "Python 3",
   "language": "python",
   "name": "python3"
  },
  "language_info": {
   "codemirror_mode": {
    "name": "ipython",
    "version": 3
   },
   "file_extension": ".py",
   "mimetype": "text/x-python",
   "name": "python",
   "nbconvert_exporter": "python",
   "pygments_lexer": "ipython3",
   "version": "3.6.4"
  }
 },
 "nbformat": 4,
 "nbformat_minor": 2
}
