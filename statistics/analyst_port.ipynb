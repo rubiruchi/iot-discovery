{
 "cells": [
  {
   "cell_type": "code",
   "execution_count": 1,
   "metadata": {},
   "outputs": [],
   "source": [
    "import pandas as pd\n",
    "pd.set_option('display.max_columns', None)  "
   ]
  },
  {
   "cell_type": "code",
   "execution_count": 2,
   "metadata": {},
   "outputs": [],
   "source": [
    "df = pd.read_csv('../sample_csv_data/flow-label.csv')\n",
    "df = df.drop(columns=['Unnamed: 0'])"
   ]
  },
  {
   "cell_type": "code",
   "execution_count": 3,
   "metadata": {},
   "outputs": [
    {
     "data": {
      "text/html": [
       "<div>\n",
       "<style scoped>\n",
       "    .dataframe tbody tr th:only-of-type {\n",
       "        vertical-align: middle;\n",
       "    }\n",
       "\n",
       "    .dataframe tbody tr th {\n",
       "        vertical-align: top;\n",
       "    }\n",
       "\n",
       "    .dataframe thead th {\n",
       "        text-align: right;\n",
       "    }\n",
       "</style>\n",
       "<table border=\"1\" class=\"dataframe\">\n",
       "  <thead>\n",
       "    <tr style=\"text-align: right;\">\n",
       "      <th></th>\n",
       "      <th>timeStampFirst</th>\n",
       "      <th>timeStampLast</th>\n",
       "      <th>duration</th>\n",
       "      <th>linkProtocol</th>\n",
       "      <th>networkProtocol</th>\n",
       "      <th>transportProtocol</th>\n",
       "      <th>applicationProtocol</th>\n",
       "      <th>srcMac</th>\n",
       "      <th>dstMac</th>\n",
       "      <th>srcIP</th>\n",
       "      <th>dstIP</th>\n",
       "      <th>srcPort</th>\n",
       "      <th>dstPort</th>\n",
       "      <th>packetCount</th>\n",
       "      <th>totalPayloadByte</th>\n",
       "      <th>appplicationPayloadByte</th>\n",
       "      <th>iot</th>\n",
       "      <th>device</th>\n",
       "    </tr>\n",
       "  </thead>\n",
       "  <tbody>\n",
       "    <tr>\n",
       "      <th>0</th>\n",
       "      <td>1474553345790</td>\n",
       "      <td>1474554007847</td>\n",
       "      <td>662057</td>\n",
       "      <td>Ethernet</td>\n",
       "      <td>IPv4</td>\n",
       "      <td>TCP</td>\n",
       "      <td>NaN</td>\n",
       "      <td>08:21:ef:3b:fc:e3</td>\n",
       "      <td>14:cc:20:51:33:ea</td>\n",
       "      <td>192.168.1.239</td>\n",
       "      <td>104.154.46.102</td>\n",
       "      <td>52592.0</td>\n",
       "      <td>443.0</td>\n",
       "      <td>31</td>\n",
       "      <td>3800</td>\n",
       "      <td>0</td>\n",
       "      <td>False</td>\n",
       "      <td>Samsung Galaxy Tab</td>\n",
       "    </tr>\n",
       "    <tr>\n",
       "      <th>1</th>\n",
       "      <td>1474557332454</td>\n",
       "      <td>1474557332478</td>\n",
       "      <td>24</td>\n",
       "      <td>Ethernet</td>\n",
       "      <td>IPv4</td>\n",
       "      <td>TCP</td>\n",
       "      <td>NaN</td>\n",
       "      <td>ec:1a:59:79:f4:89</td>\n",
       "      <td>ec:1a:59:83:28:11</td>\n",
       "      <td>192.168.1.223</td>\n",
       "      <td>192.168.1.193</td>\n",
       "      <td>49153.0</td>\n",
       "      <td>4568.0</td>\n",
       "      <td>7</td>\n",
       "      <td>4087</td>\n",
       "      <td>0</td>\n",
       "      <td>True</td>\n",
       "      <td>Belkin Wemo switch</td>\n",
       "    </tr>\n",
       "    <tr>\n",
       "      <th>2</th>\n",
       "      <td>1474553105676</td>\n",
       "      <td>1474553105703</td>\n",
       "      <td>27</td>\n",
       "      <td>Ethernet</td>\n",
       "      <td>IPv4</td>\n",
       "      <td>TCP</td>\n",
       "      <td>NaN</td>\n",
       "      <td>ec:1a:59:79:f4:89</td>\n",
       "      <td>ec:1a:59:83:28:11</td>\n",
       "      <td>192.168.1.223</td>\n",
       "      <td>192.168.1.193</td>\n",
       "      <td>49153.0</td>\n",
       "      <td>3391.0</td>\n",
       "      <td>7</td>\n",
       "      <td>4087</td>\n",
       "      <td>0</td>\n",
       "      <td>True</td>\n",
       "      <td>Belkin Wemo switch</td>\n",
       "    </tr>\n",
       "    <tr>\n",
       "      <th>3</th>\n",
       "      <td>1474555533365</td>\n",
       "      <td>1474555533404</td>\n",
       "      <td>39</td>\n",
       "      <td>Ethernet</td>\n",
       "      <td>IPv4</td>\n",
       "      <td>TCP</td>\n",
       "      <td>NaN</td>\n",
       "      <td>ec:1a:59:83:28:11</td>\n",
       "      <td>ec:1a:59:79:f4:89</td>\n",
       "      <td>192.168.1.193</td>\n",
       "      <td>192.168.1.223</td>\n",
       "      <td>4898.0</td>\n",
       "      <td>49153.0</td>\n",
       "      <td>7</td>\n",
       "      <td>653</td>\n",
       "      <td>0</td>\n",
       "      <td>True</td>\n",
       "      <td>Belkin wemo motion sensor</td>\n",
       "    </tr>\n",
       "    <tr>\n",
       "      <th>4</th>\n",
       "      <td>1474557197359</td>\n",
       "      <td>1474557197411</td>\n",
       "      <td>52</td>\n",
       "      <td>Ethernet</td>\n",
       "      <td>IPv4</td>\n",
       "      <td>TCP</td>\n",
       "      <td>NaN</td>\n",
       "      <td>ec:1a:59:79:f4:89</td>\n",
       "      <td>ec:1a:59:83:28:11</td>\n",
       "      <td>192.168.1.223</td>\n",
       "      <td>192.168.1.193</td>\n",
       "      <td>49153.0</td>\n",
       "      <td>4555.0</td>\n",
       "      <td>7</td>\n",
       "      <td>4087</td>\n",
       "      <td>0</td>\n",
       "      <td>True</td>\n",
       "      <td>Belkin Wemo switch</td>\n",
       "    </tr>\n",
       "  </tbody>\n",
       "</table>\n",
       "</div>"
      ],
      "text/plain": [
       "   timeStampFirst  timeStampLast  duration linkProtocol networkProtocol  \\\n",
       "0   1474553345790  1474554007847    662057     Ethernet            IPv4   \n",
       "1   1474557332454  1474557332478        24     Ethernet            IPv4   \n",
       "2   1474553105676  1474553105703        27     Ethernet            IPv4   \n",
       "3   1474555533365  1474555533404        39     Ethernet            IPv4   \n",
       "4   1474557197359  1474557197411        52     Ethernet            IPv4   \n",
       "\n",
       "  transportProtocol applicationProtocol             srcMac             dstMac  \\\n",
       "0               TCP                 NaN  08:21:ef:3b:fc:e3  14:cc:20:51:33:ea   \n",
       "1               TCP                 NaN  ec:1a:59:79:f4:89  ec:1a:59:83:28:11   \n",
       "2               TCP                 NaN  ec:1a:59:79:f4:89  ec:1a:59:83:28:11   \n",
       "3               TCP                 NaN  ec:1a:59:83:28:11  ec:1a:59:79:f4:89   \n",
       "4               TCP                 NaN  ec:1a:59:79:f4:89  ec:1a:59:83:28:11   \n",
       "\n",
       "           srcIP           dstIP  srcPort  dstPort  packetCount  \\\n",
       "0  192.168.1.239  104.154.46.102  52592.0    443.0           31   \n",
       "1  192.168.1.223   192.168.1.193  49153.0   4568.0            7   \n",
       "2  192.168.1.223   192.168.1.193  49153.0   3391.0            7   \n",
       "3  192.168.1.193   192.168.1.223   4898.0  49153.0            7   \n",
       "4  192.168.1.223   192.168.1.193  49153.0   4555.0            7   \n",
       "\n",
       "   totalPayloadByte  appplicationPayloadByte    iot                     device  \n",
       "0              3800                        0  False         Samsung Galaxy Tab  \n",
       "1              4087                        0   True         Belkin Wemo switch  \n",
       "2              4087                        0   True         Belkin Wemo switch  \n",
       "3               653                        0   True  Belkin wemo motion sensor  \n",
       "4              4087                        0   True         Belkin Wemo switch  "
      ]
     },
     "execution_count": 3,
     "metadata": {},
     "output_type": "execute_result"
    }
   ],
   "source": [
    "df.head()"
   ]
  },
  {
   "cell_type": "code",
   "execution_count": 4,
   "metadata": {},
   "outputs": [],
   "source": [
    "iot_df = df[df.iot == True]\n",
    "non_iot_df = df[df.iot == False]"
   ]
  },
  {
   "cell_type": "code",
   "execution_count": 5,
   "metadata": {},
   "outputs": [
    {
     "data": {
      "text/plain": [
       "(308088, 18)"
      ]
     },
     "execution_count": 5,
     "metadata": {},
     "output_type": "execute_result"
    }
   ],
   "source": [
    "iot_df.shape"
   ]
  },
  {
   "cell_type": "code",
   "execution_count": 6,
   "metadata": {},
   "outputs": [
    {
     "data": {
      "text/plain": [
       "(61661, 18)"
      ]
     },
     "execution_count": 6,
     "metadata": {},
     "output_type": "execute_result"
    }
   ],
   "source": [
    "non_iot_df.shape"
   ]
  },
  {
   "cell_type": "code",
   "execution_count": 7,
   "metadata": {},
   "outputs": [
    {
     "name": "stdout",
     "output_type": "stream",
     "text": [
      "['port: 53.0', 'port: 80.0', 'port: 49152.0', 'port: 49153.0', 'port: 123.0', 'port: 443.0', 'port: 465.0', 'port: 25050.0', 'port: 3478.0', 'port: 49154.0']\n",
      "[42346, 41280, 40113, 39005, 26355, 9981, 6829, 2343, 1959, 1663]\n",
      "['port: 443.0', 'port: 80.0', 'port: 53.0', 'port: 3702.0', 'port: 5000.0', 'port: 5222.0', 'port: 5228.0', 'port: 1900.0', 'port: 993.0', 'port: 49152.0']\n",
      "[25323, 10549, 4739, 4246, 2930, 1434, 1268, 1075, 805, 785]\n"
     ]
    }
   ],
   "source": [
    "def get_keys_values(df, target):\n",
    "    keys = list(dict(df.groupby([target]).size().sort_values(ascending=False)).keys())[:10]\n",
    "    values = list(dict(df.groupby([target]).size().sort_values(ascending=False)).values())[:10]\n",
    "    keys = ['port: '+ str(k) for k in keys]\n",
    "    return keys, values\n",
    "iot_keys, iot_values = get_keys_values(iot_df, 'dstPort')\n",
    "non_iot_keys, non_iot_values = get_keys_values(non_iot_df, 'dstPort')\n",
    "print(iot_keys)\n",
    "print(iot_values)\n",
    "print(non_iot_keys)\n",
    "print(non_iot_values)"
   ]
  },
  {
   "cell_type": "code",
   "execution_count": 53,
   "metadata": {},
   "outputs": [
    {
     "data": {
      "text/html": [
       "<script type=\"text/javascript\">window.PlotlyConfig = {MathJaxConfig: 'local'};</script><script type=\"text/javascript\">if (window.MathJax) {MathJax.Hub.Config({SVG: {font: \"STIX-Web\"}});}</script><script>requirejs.config({paths: { 'plotly': ['https://cdn.plot.ly/plotly-latest.min']},});if(!window._Plotly) {require(['plotly'],function(plotly) {window._Plotly=plotly;});}</script>"
      ],
      "text/vnd.plotly.v1+html": [
       "<script type=\"text/javascript\">window.PlotlyConfig = {MathJaxConfig: 'local'};</script><script type=\"text/javascript\">if (window.MathJax) {MathJax.Hub.Config({SVG: {font: \"STIX-Web\"}});}</script><script>requirejs.config({paths: { 'plotly': ['https://cdn.plot.ly/plotly-latest.min']},});if(!window._Plotly) {require(['plotly'],function(plotly) {window._Plotly=plotly;});}</script>"
      ]
     },
     "metadata": {},
     "output_type": "display_data"
    }
   ],
   "source": [
    "from plotly.offline import download_plotlyjs, init_notebook_mode, plot, iplot\n",
    "import plotly.graph_objs as go\n",
    "init_notebook_mode(connected=True)"
   ]
  },
  {
   "cell_type": "code",
   "execution_count": 74,
   "metadata": {},
   "outputs": [
    {
     "data": {
      "application/vnd.plotly.v1+json": {
       "data": [
        {
         "name": "iot",
         "type": "bar",
         "uid": "bd11e4d6-e21d-4d84-b112-051b25006527",
         "x": [
          "port: 53.0",
          "port: 80.0",
          "port: 49152.0",
          "port: 49153.0",
          "port: 123.0",
          "port: 443.0",
          "port: 465.0",
          "port: 25050.0",
          "port: 3478.0",
          "port: 49154.0"
         ],
         "y": [
          42346,
          41280,
          40113,
          39005,
          26355,
          9981,
          6829,
          2343,
          1959,
          1663
         ]
        },
        {
         "name": "non-iot",
         "type": "bar",
         "uid": "358ef220-6f65-45fb-a9c8-12cabe431fc1",
         "x": [
          "port: 443.0",
          "port: 80.0",
          "port: 53.0",
          "port: 3702.0",
          "port: 5000.0",
          "port: 5222.0",
          "port: 5228.0",
          "port: 1900.0",
          "port: 993.0",
          "port: 49152.0"
         ],
         "y": [
          25323,
          10549,
          4739,
          4246,
          2930,
          1434,
          1268,
          1075,
          805,
          785
         ]
        }
       ],
       "layout": {}
      },
      "text/html": [
       "<div id=\"2acdb48a-c535-4e99-a2fc-90cc4f653fb9\" style=\"height: 525px; width: 100%;\" class=\"plotly-graph-div\"></div><script type=\"text/javascript\">require([\"plotly\"], function(Plotly) { window.PLOTLYENV=window.PLOTLYENV || {};window.PLOTLYENV.BASE_URL=\"https://plot.ly\";Plotly.newPlot(\"2acdb48a-c535-4e99-a2fc-90cc4f653fb9\", [{\"name\": \"iot\", \"x\": [\"port: 53.0\", \"port: 80.0\", \"port: 49152.0\", \"port: 49153.0\", \"port: 123.0\", \"port: 443.0\", \"port: 465.0\", \"port: 25050.0\", \"port: 3478.0\", \"port: 49154.0\"], \"y\": [42346, 41280, 40113, 39005, 26355, 9981, 6829, 2343, 1959, 1663], \"type\": \"bar\", \"uid\": \"c5ec23f9-cda8-4691-9b98-4d8b57653ae1\"}, {\"name\": \"non-iot\", \"x\": [\"port: 443.0\", \"port: 80.0\", \"port: 53.0\", \"port: 3702.0\", \"port: 5000.0\", \"port: 5222.0\", \"port: 5228.0\", \"port: 1900.0\", \"port: 993.0\", \"port: 49152.0\"], \"y\": [25323, 10549, 4739, 4246, 2930, 1434, 1268, 1075, 805, 785], \"type\": \"bar\", \"uid\": \"98a8742c-f089-43fd-8a61-b683cccf72a0\"}], {}, {\"showLink\": true, \"linkText\": \"Export to plot.ly\"})});</script><script type=\"text/javascript\">window.addEventListener(\"resize\", function(){Plotly.Plots.resize(document.getElementById(\"2acdb48a-c535-4e99-a2fc-90cc4f653fb9\"));});</script>"
      ],
      "text/vnd.plotly.v1+html": [
       "<div id=\"2acdb48a-c535-4e99-a2fc-90cc4f653fb9\" style=\"height: 525px; width: 100%;\" class=\"plotly-graph-div\"></div><script type=\"text/javascript\">require([\"plotly\"], function(Plotly) { window.PLOTLYENV=window.PLOTLYENV || {};window.PLOTLYENV.BASE_URL=\"https://plot.ly\";Plotly.newPlot(\"2acdb48a-c535-4e99-a2fc-90cc4f653fb9\", [{\"name\": \"iot\", \"x\": [\"port: 53.0\", \"port: 80.0\", \"port: 49152.0\", \"port: 49153.0\", \"port: 123.0\", \"port: 443.0\", \"port: 465.0\", \"port: 25050.0\", \"port: 3478.0\", \"port: 49154.0\"], \"y\": [42346, 41280, 40113, 39005, 26355, 9981, 6829, 2343, 1959, 1663], \"type\": \"bar\", \"uid\": \"c5ec23f9-cda8-4691-9b98-4d8b57653ae1\"}, {\"name\": \"non-iot\", \"x\": [\"port: 443.0\", \"port: 80.0\", \"port: 53.0\", \"port: 3702.0\", \"port: 5000.0\", \"port: 5222.0\", \"port: 5228.0\", \"port: 1900.0\", \"port: 993.0\", \"port: 49152.0\"], \"y\": [25323, 10549, 4739, 4246, 2930, 1434, 1268, 1075, 805, 785], \"type\": \"bar\", \"uid\": \"98a8742c-f089-43fd-8a61-b683cccf72a0\"}], {}, {\"showLink\": true, \"linkText\": \"Export to plot.ly\"})});</script><script type=\"text/javascript\">window.addEventListener(\"resize\", function(){Plotly.Plots.resize(document.getElementById(\"2acdb48a-c535-4e99-a2fc-90cc4f653fb9\"));});</script>"
      ]
     },
     "metadata": {},
     "output_type": "display_data"
    }
   ],
   "source": [
    "data = [go.Bar(\n",
    "            x=iot_keys,\n",
    "            y=iot_values,\n",
    "            name='iot'\n",
    "    ),\n",
    "        go.Bar(\n",
    "            x=non_iot_keys,\n",
    "            y=non_iot_values,\n",
    "            name='non-iot'\n",
    "    )]\n",
    "\n",
    "iplot(data)"
   ]
  },
  {
   "cell_type": "code",
   "execution_count": 76,
   "metadata": {},
   "outputs": [
    {
     "data": {
      "application/vnd.plotly.v1+json": {
       "data": [
        {
         "name": "iot",
         "type": "bar",
         "uid": "4529b05b-ec2d-4bb7-a093-ded0760ef1e5",
         "x": [
          "port: 49152.0",
          "port: 49153.0",
          "port: 48999.0",
          "port: 49154.0",
          "port: 68.0",
          "port: 59960.0",
          "port: 3910.0",
          "port: 1900.0",
          "port: 25587.0",
          "port: 10001.0"
         ],
         "y": [
          40889,
          39391,
          1920,
          1680,
          1411,
          753,
          521,
          465,
          400,
          347
         ]
        },
        {
         "name": "non-iot",
         "type": "bar",
         "uid": "592e74aa-79db-40c5-989c-fc195968a9a6",
         "x": [
          "port: 33666.0",
          "port: 2869.0",
          "port: 1900.0",
          "port: 5353.0",
          "port: 137.0",
          "port: 68.0",
          "port: 5357.0",
          "port: 138.0",
          "port: 16403.0",
          "port: 58943.0"
         ],
         "y": [
          1944,
          1166,
          242,
          184,
          115,
          95,
          86,
          84,
          55,
          55
         ]
        }
       ],
       "layout": {}
      },
      "text/html": [
       "<div id=\"575d0b5a-1128-4f4c-960e-112c8968608b\" style=\"height: 525px; width: 100%;\" class=\"plotly-graph-div\"></div><script type=\"text/javascript\">require([\"plotly\"], function(Plotly) { window.PLOTLYENV=window.PLOTLYENV || {};window.PLOTLYENV.BASE_URL=\"https://plot.ly\";Plotly.newPlot(\"575d0b5a-1128-4f4c-960e-112c8968608b\", [{\"name\": \"iot\", \"x\": [\"port: 49152.0\", \"port: 49153.0\", \"port: 48999.0\", \"port: 49154.0\", \"port: 68.0\", \"port: 59960.0\", \"port: 3910.0\", \"port: 1900.0\", \"port: 25587.0\", \"port: 10001.0\"], \"y\": [40889, 39391, 1920, 1680, 1411, 753, 521, 465, 400, 347], \"type\": \"bar\", \"uid\": \"0812d606-ca98-49bc-9fa8-64af0c6a7c2c\"}, {\"name\": \"non-iot\", \"x\": [\"port: 33666.0\", \"port: 2869.0\", \"port: 1900.0\", \"port: 5353.0\", \"port: 137.0\", \"port: 68.0\", \"port: 5357.0\", \"port: 138.0\", \"port: 16403.0\", \"port: 58943.0\"], \"y\": [1944, 1166, 242, 184, 115, 95, 86, 84, 55, 55], \"type\": \"bar\", \"uid\": \"81d6fbae-a55a-40f9-87cf-eb324318089b\"}], {}, {\"showLink\": true, \"linkText\": \"Export to plot.ly\"})});</script><script type=\"text/javascript\">window.addEventListener(\"resize\", function(){Plotly.Plots.resize(document.getElementById(\"575d0b5a-1128-4f4c-960e-112c8968608b\"));});</script>"
      ],
      "text/vnd.plotly.v1+html": [
       "<div id=\"575d0b5a-1128-4f4c-960e-112c8968608b\" style=\"height: 525px; width: 100%;\" class=\"plotly-graph-div\"></div><script type=\"text/javascript\">require([\"plotly\"], function(Plotly) { window.PLOTLYENV=window.PLOTLYENV || {};window.PLOTLYENV.BASE_URL=\"https://plot.ly\";Plotly.newPlot(\"575d0b5a-1128-4f4c-960e-112c8968608b\", [{\"name\": \"iot\", \"x\": [\"port: 49152.0\", \"port: 49153.0\", \"port: 48999.0\", \"port: 49154.0\", \"port: 68.0\", \"port: 59960.0\", \"port: 3910.0\", \"port: 1900.0\", \"port: 25587.0\", \"port: 10001.0\"], \"y\": [40889, 39391, 1920, 1680, 1411, 753, 521, 465, 400, 347], \"type\": \"bar\", \"uid\": \"0812d606-ca98-49bc-9fa8-64af0c6a7c2c\"}, {\"name\": \"non-iot\", \"x\": [\"port: 33666.0\", \"port: 2869.0\", \"port: 1900.0\", \"port: 5353.0\", \"port: 137.0\", \"port: 68.0\", \"port: 5357.0\", \"port: 138.0\", \"port: 16403.0\", \"port: 58943.0\"], \"y\": [1944, 1166, 242, 184, 115, 95, 86, 84, 55, 55], \"type\": \"bar\", \"uid\": \"81d6fbae-a55a-40f9-87cf-eb324318089b\"}], {}, {\"showLink\": true, \"linkText\": \"Export to plot.ly\"})});</script><script type=\"text/javascript\">window.addEventListener(\"resize\", function(){Plotly.Plots.resize(document.getElementById(\"575d0b5a-1128-4f4c-960e-112c8968608b\"));});</script>"
      ]
     },
     "metadata": {},
     "output_type": "display_data"
    }
   ],
   "source": [
    "iot_keys, iot_values = get_keys_values(iot_df, 'srcPort')\n",
    "non_iot_keys, non_iot_values = get_keys_values(non_iot_df, 'srcPort')\n",
    "data = [go.Bar(\n",
    "            x=iot_keys,\n",
    "            y=iot_values,\n",
    "            name='iot'\n",
    "    ),\n",
    "        go.Bar(\n",
    "            x=non_iot_keys,\n",
    "            y=non_iot_values,\n",
    "            name='non-iot'\n",
    "    )]\n",
    "\n",
    "iplot(data)"
   ]
  },
  {
   "cell_type": "code",
   "execution_count": 79,
   "metadata": {},
   "outputs": [
    {
     "data": {
      "text/plain": [
       "device\n",
       "Amazon Echo                             2\n",
       "Belkin Wemo switch                  16585\n",
       "Dropcam                                 1\n",
       "Samsung SmartCam                    24300\n",
       "Withings Aura smart sleep sensor        1\n",
       "dtype: int64"
      ]
     },
     "execution_count": 79,
     "metadata": {},
     "output_type": "execute_result"
    }
   ],
   "source": [
    "iot_df[iot_df.srcPort == 49152].groupby('device').size()"
   ]
  },
  {
   "cell_type": "code",
   "execution_count": 80,
   "metadata": {},
   "outputs": [
    {
     "data": {
      "text/plain": [
       "device\n",
       "Amazon Echo                             2\n",
       "Belkin Wemo switch                  33250\n",
       "Belkin wemo motion sensor            6023\n",
       "Dropcam                                 1\n",
       "HP Printer                              1\n",
       "Samsung SmartCam                        4\n",
       "Triby Speaker                           1\n",
       "Withings Aura smart sleep sensor        1\n",
       "Withings Smart scale                   54\n",
       "iHome                                  54\n",
       "dtype: int64"
      ]
     },
     "execution_count": 80,
     "metadata": {},
     "output_type": "execute_result"
    }
   ],
   "source": [
    "iot_df[iot_df.srcPort == 49153].groupby('device').size()"
   ]
  },
  {
   "cell_type": "code",
   "execution_count": 8,
   "metadata": {},
   "outputs": [
    {
     "data": {
      "text/plain": [
       "device\n",
       "Amazon Echo                             1\n",
       "Belkin wemo motion sensor           40103\n",
       "Netatmo weather station                 1\n",
       "Samsung SmartCam                        6\n",
       "Smart Things                            1\n",
       "Withings Aura smart sleep sensor        1\n",
       "dtype: int64"
      ]
     },
     "execution_count": 8,
     "metadata": {},
     "output_type": "execute_result"
    }
   ],
   "source": [
    "iot_df[iot_df.dstPort == 49152].groupby('device').size()"
   ]
  },
  {
   "cell_type": "code",
   "execution_count": 9,
   "metadata": {},
   "outputs": [
    {
     "data": {
      "text/plain": [
       "device\n",
       "Belkin Wemo switch                   5821\n",
       "Belkin wemo motion sensor           33170\n",
       "Insteon Camera                          1\n",
       "Samsung SmartCam                       11\n",
       "Triby Speaker                           1\n",
       "Withings Aura smart sleep sensor        1\n",
       "dtype: int64"
      ]
     },
     "execution_count": 9,
     "metadata": {},
     "output_type": "execute_result"
    }
   ],
   "source": [
    "iot_df[iot_df.dstPort == 49153].groupby('device').size()"
   ]
  },
  {
   "cell_type": "code",
   "execution_count": 13,
   "metadata": {},
   "outputs": [
    {
     "data": {
      "text/plain": [
       "dstIP\n",
       "192.168.1.223    16458\n",
       "192.168.1.249    23655\n",
       "dtype: int64"
      ]
     },
     "execution_count": 13,
     "metadata": {},
     "output_type": "execute_result"
    }
   ],
   "source": [
    "iot_df[iot_df.dstPort == 49152].groupby('dstIP').size()"
   ]
  },
  {
   "cell_type": "code",
   "execution_count": 11,
   "metadata": {},
   "outputs": [
    {
     "data": {
      "text/plain": [
       "dstIP\n",
       "192.168.1.193     5821\n",
       "192.168.1.223    33184\n",
       "dtype: int64"
      ]
     },
     "execution_count": 11,
     "metadata": {},
     "output_type": "execute_result"
    }
   ],
   "source": [
    "iot_df[iot_df.dstPort == 49153].groupby('dstIP').size()"
   ]
  },
  {
   "cell_type": "code",
   "execution_count": 16,
   "metadata": {},
   "outputs": [
    {
     "name": "stderr",
     "output_type": "stream",
     "text": [
      "/anaconda3/lib/python3.6/site-packages/ipykernel_launcher.py:1: UserWarning: Boolean Series key will be reindexed to match DataFrame index.\n",
      "  \"\"\"Entry point for launching an IPython kernel.\n"
     ]
    },
    {
     "data": {
      "text/plain": [
       "device\n",
       "Amazon Echo                             1\n",
       "Dropcam                                 1\n",
       "HP Printer                              1\n",
       "Netatmo Welcome                         1\n",
       "Samsung SmartCam                    49656\n",
       "Smart Things                            1\n",
       "Triby Speaker                           1\n",
       "Withings Aura smart sleep sensor        1\n",
       "dtype: int64"
      ]
     },
     "execution_count": 16,
     "metadata": {},
     "output_type": "execute_result"
    }
   ],
   "source": [
    "iot_df[df.srcIP == '192.168.1.249'].groupby('device').size()"
   ]
  },
  {
   "cell_type": "code",
   "execution_count": 18,
   "metadata": {},
   "outputs": [
    {
     "name": "stderr",
     "output_type": "stream",
     "text": [
      "/anaconda3/lib/python3.6/site-packages/ipykernel_launcher.py:1: UserWarning: Boolean Series key will be reindexed to match DataFrame index.\n",
      "  \"\"\"Entry point for launching an IPython kernel.\n"
     ]
    },
    {
     "data": {
      "text/plain": [
       "device\n",
       "Belkin Wemo switch    60728\n",
       "Dropcam                   1\n",
       "HP Printer                1\n",
       "Samsung SmartCam          4\n",
       "Triby Speaker             1\n",
       "dtype: int64"
      ]
     },
     "execution_count": 18,
     "metadata": {},
     "output_type": "execute_result"
    }
   ],
   "source": [
    "iot_df[df.srcIP == '192.168.1.223'].groupby('device').size()"
   ]
  },
  {
   "cell_type": "code",
   "execution_count": 20,
   "metadata": {},
   "outputs": [
    {
     "name": "stderr",
     "output_type": "stream",
     "text": [
      "/anaconda3/lib/python3.6/site-packages/ipykernel_launcher.py:1: UserWarning: Boolean Series key will be reindexed to match DataFrame index.\n",
      "  \"\"\"Entry point for launching an IPython kernel.\n"
     ]
    },
    {
     "data": {
      "text/plain": [
       "device\n",
       "Amazon Echo                             2\n",
       "Belkin wemo motion sensor           85117\n",
       "Insteon Camera                          1\n",
       "Netatmo weather station                 1\n",
       "Samsung SmartCam                       18\n",
       "Smart Things                            1\n",
       "Triby Speaker                           1\n",
       "Withings Aura smart sleep sensor        3\n",
       "dtype: int64"
      ]
     },
     "execution_count": 20,
     "metadata": {},
     "output_type": "execute_result"
    }
   ],
   "source": [
    "iot_df[df.srcIP == '192.168.1.193'].groupby('device').size()"
   ]
  },
  {
   "cell_type": "code",
   "execution_count": 23,
   "metadata": {},
   "outputs": [
    {
     "data": {
      "text/plain": [
       "dstPort\n",
       "80.0       51829\n",
       "53.0       47085\n",
       "49152.0    40898\n",
       "49153.0    39281\n",
       "443.0      35304\n",
       "123.0      26406\n",
       "465.0       6831\n",
       "3702.0      4299\n",
       "5000.0      4069\n",
       "3478.0      2463\n",
       "25050.0     2343\n",
       "1900.0      1891\n",
       "5222.0      1811\n",
       "3080.0      1673\n",
       "49154.0     1664\n",
       "67.0        1506\n",
       "5228.0      1495\n",
       "2869.0      1148\n",
       "3222.0       879\n",
       "993.0        805\n",
       "10001.0      735\n",
       "8443.0       705\n",
       "5355.0       664\n",
       "50443.0      664\n",
       "7275.0       633\n",
       "10000.0      609\n",
       "56700.0      557\n",
       "3910.0       515\n",
       "8090.0       393\n",
       "137.0        379\n",
       "           ...  \n",
       "52691.0        1\n",
       "52692.0        1\n",
       "52693.0        1\n",
       "52699.0        1\n",
       "52709.0        1\n",
       "52721.0        1\n",
       "52724.0        1\n",
       "52643.0        1\n",
       "52641.0        1\n",
       "52407.0        1\n",
       "52562.0        1\n",
       "52413.0        1\n",
       "52416.0        1\n",
       "52420.0        1\n",
       "52439.0        1\n",
       "52458.0        1\n",
       "52491.0        1\n",
       "52513.0        1\n",
       "52518.0        1\n",
       "52572.0        1\n",
       "52639.0        1\n",
       "52584.0        1\n",
       "52592.0        1\n",
       "52595.0        1\n",
       "52596.0        1\n",
       "52598.0        1\n",
       "52600.0        1\n",
       "52601.0        1\n",
       "52633.0        1\n",
       "41479.0        1\n",
       "Length: 6016, dtype: int64"
      ]
     },
     "execution_count": 23,
     "metadata": {},
     "output_type": "execute_result"
    }
   ],
   "source": [
    "df.groupby('dstPort').size().sort_values(ascending=False)"
   ]
  },
  {
   "cell_type": "code",
   "execution_count": 24,
   "metadata": {},
   "outputs": [
    {
     "data": {
      "text/plain": [
       "srcPort\n",
       "49152.0    40897\n",
       "49153.0    39397\n",
       "33666.0     1949\n",
       "48999.0     1920\n",
       "49154.0     1683\n",
       "68.0        1506\n",
       "2869.0      1166\n",
       "59960.0      759\n",
       "1900.0       707\n",
       "3910.0       521\n",
       "25587.0      400\n",
       "137.0        377\n",
       "5353.0       363\n",
       "10001.0      363\n",
       "56700.0      356\n",
       "138.0        339\n",
       "50000.0      338\n",
       "3080.0       296\n",
       "80.0         289\n",
       "37616.0      261\n",
       "57275.0      214\n",
       "443.0        195\n",
       "21787.0      172\n",
       "53048.0      169\n",
       "3911.0       139\n",
       "41333.0      138\n",
       "43761.0      131\n",
       "53.0         128\n",
       "3119.0       117\n",
       "27477.0      116\n",
       "           ...  \n",
       "27640.0        1\n",
       "27638.0        1\n",
       "27606.0        1\n",
       "27637.0        1\n",
       "27607.0        1\n",
       "27608.0        1\n",
       "27609.0        1\n",
       "27610.0        1\n",
       "27611.0        1\n",
       "27612.0        1\n",
       "27613.0        1\n",
       "27614.0        1\n",
       "27615.0        1\n",
       "27617.0        1\n",
       "27618.0        1\n",
       "27619.0        1\n",
       "27620.0        1\n",
       "27623.0        1\n",
       "27625.0        1\n",
       "27626.0        1\n",
       "27627.0        1\n",
       "27628.0        1\n",
       "27629.0        1\n",
       "27630.0        1\n",
       "27631.0        1\n",
       "27632.0        1\n",
       "27633.0        1\n",
       "27635.0        1\n",
       "27636.0        1\n",
       "7.0            1\n",
       "Length: 38953, dtype: int64"
      ]
     },
     "execution_count": 24,
     "metadata": {},
     "output_type": "execute_result"
    }
   ],
   "source": [
    "df.groupby('srcPort').size().sort_values(ascending=False)"
   ]
  },
  {
   "cell_type": "code",
   "execution_count": 27,
   "metadata": {},
   "outputs": [
    {
     "data": {
      "text/plain": [
       "device\n",
       "Amazon Echo                         18014\n",
       "Samsung SmartCam                     8895\n",
       "Insteon Camera                       6595\n",
       "Light Bulbs LiFX Smart Bulb          4242\n",
       "Laptop                               1828\n",
       "MacBook                              1663\n",
       "Samsung Galaxy Tab                   1174\n",
       "Smart Things                          762\n",
       "Belkin Wemo switch                    693\n",
       "PIX-STAR Photo-frame                  631\n",
       "Withings Smart Baby Monitor           600\n",
       "Belkin wemo motion sensor             416\n",
       "Triby Speaker                         401\n",
       "Netatmo weather station               400\n",
       "Withings Aura smart sleep sensor      258\n",
       "Netatmo Welcome                       230\n",
       "TP-Link Day Night Cloud camera         54\n",
       "Android Phone                          50\n",
       "iHome                                  42\n",
       "TP-Link Smart plug                     39\n",
       "NEST Protect smoke alarm               22\n",
       "Withings Smart scale                   19\n",
       "HP Printer                             15\n",
       "MacBook/Iphone                         14\n",
       "Dropcam                                11\n",
       "IPhone                                 10\n",
       "Nest Dropcam                            5\n",
       "Blipcare Blood Pressure meter           2\n",
       "dtype: int64"
      ]
     },
     "execution_count": 27,
     "metadata": {},
     "output_type": "execute_result"
    }
   ],
   "source": [
    "df[df.dstPort == 53].groupby('device').size().sort_values(ascending=False)"
   ]
  },
  {
   "cell_type": "code",
   "execution_count": 28,
   "metadata": {
    "scrolled": true
   },
   "outputs": [
    {
     "data": {
      "text/plain": [
       "dstIP\n",
       "192.168.1.1                  24735\n",
       "8.8.8.8                      19798\n",
       "fe80::16cc:20ff:fe51:33ea     2154\n",
       "61.9.195.193                   161\n",
       "61.9.194.49                    151\n",
       "208.67.220.220                  80\n",
       "129.94.0.196                     4\n",
       "8.8.4.4                          1\n",
       "192.168.1.236                    1\n",
       "dtype: int64"
      ]
     },
     "execution_count": 28,
     "metadata": {},
     "output_type": "execute_result"
    }
   ],
   "source": [
    "df[df.dstPort == 53].groupby('dstIP').size().sort_values(ascending=False)"
   ]
  },
  {
   "cell_type": "code",
   "execution_count": 29,
   "metadata": {},
   "outputs": [
    {
     "data": {
      "text/plain": [
       "dstIP\n",
       "192.168.1.1                  22483\n",
       "8.8.8.8                      19780\n",
       "208.67.220.220                  80\n",
       "fe80::16cc:20ff:fe51:33ea        2\n",
       "8.8.4.4                          1\n",
       "dtype: int64"
      ]
     },
     "execution_count": 29,
     "metadata": {},
     "output_type": "execute_result"
    }
   ],
   "source": [
    "iot_df[iot_df.dstPort == 53].groupby('dstIP').size().sort_values(ascending=False)"
   ]
  },
  {
   "cell_type": "code",
   "execution_count": 31,
   "metadata": {},
   "outputs": [
    {
     "data": {
      "text/plain": [
       "dstIP\n",
       "192.168.1.1                  2252\n",
       "fe80::16cc:20ff:fe51:33ea    2152\n",
       "61.9.195.193                  161\n",
       "61.9.194.49                   151\n",
       "8.8.8.8                        18\n",
       "129.94.0.196                    4\n",
       "192.168.1.236                   1\n",
       "dtype: int64"
      ]
     },
     "execution_count": 31,
     "metadata": {},
     "output_type": "execute_result"
    }
   ],
   "source": [
    "non_iot_df[non_iot_df.dstPort == 53].groupby('dstIP').size().sort_values(ascending=False)"
   ]
  },
  {
   "cell_type": "code",
   "execution_count": 36,
   "metadata": {},
   "outputs": [
    {
     "data": {
      "text/plain": [
       "dstIP\n",
       "192.168.1.1         278\n",
       "208.67.220.220       80\n",
       "8.8.8.8           17656\n",
       "dtype: int64"
      ]
     },
     "execution_count": 36,
     "metadata": {},
     "output_type": "execute_result"
    }
   ],
   "source": [
    "iot_df[(iot_df.dstPort == 53) & (iot_df.device == 'Amazon Echo')].groupby('dstIP').size()"
   ]
  },
  {
   "cell_type": "code",
   "execution_count": 38,
   "metadata": {},
   "outputs": [
    {
     "data": {
      "text/plain": [
       "dstPort  device                          \n",
       "49152.0  Belkin wemo motion sensor           40103\n",
       "49153.0  Belkin wemo motion sensor           33170\n",
       "123.0    Insteon Camera                      20228\n",
       "53.0     Amazon Echo                         18014\n",
       "80.0     Amazon Echo                         17783\n",
       "443.0    Samsung Galaxy Tab                  11013\n",
       "         Laptop                               9212\n",
       "80.0     Samsung SmartCam                     8983\n",
       "53.0     Samsung SmartCam                     8895\n",
       "465.0    Samsung SmartCam                     6828\n",
       "53.0     Insteon Camera                       6595\n",
       "49153.0  Belkin Wemo switch                   5821\n",
       "80.0     Withings Smart Baby Monitor          5577\n",
       "         Laptop                               5556\n",
       "443.0    Netatmo Welcome                      4842\n",
       "3702.0   Laptop                               4246\n",
       "53.0     Light Bulbs LiFX Smart Bulb          4242\n",
       "80.0     Insteon Camera                       4066\n",
       "123.0    Amazon Echo                          3971\n",
       "443.0    Amazon Echo                          3627\n",
       "80.0     Withings Aura smart sleep sensor     3559\n",
       "443.0    MacBook                              2943\n",
       "5000.0   Laptop                               2930\n",
       "80.0     Samsung Galaxy Tab                   2721\n",
       "25050.0  Netatmo weather station              2343\n",
       "443.0    Android Phone                        1944\n",
       "123.0    Light Bulbs LiFX Smart Bulb          1919\n",
       "80.0     MacBook                              1887\n",
       "53.0     Laptop                               1828\n",
       "49154.0  Belkin Wemo switch                   1663\n",
       "                                             ...  \n",
       "48560.0  Insteon Camera                          1\n",
       "48543.0  Insteon Camera                          1\n",
       "48537.0  Laptop                                  1\n",
       "3967.0   Laptop                                  1\n",
       "48506.0  Samsung Galaxy Tab                      1\n",
       "48490.0  Samsung SmartCam                        1\n",
       "         Belkin wemo motion sensor               1\n",
       "         Belkin Wemo switch                      1\n",
       "48486.0  Laptop                                  1\n",
       "48473.0  Samsung Galaxy Tab                      1\n",
       "48469.0  Samsung Galaxy Tab                      1\n",
       "48705.0  Samsung SmartCam                        1\n",
       "48708.0  Samsung SmartCam                        1\n",
       "48710.0  Samsung SmartCam                        1\n",
       "48734.0  Samsung SmartCam                        1\n",
       "48750.0  Samsung SmartCam                        1\n",
       "48743.0  Samsung SmartCam                        1\n",
       "48738.0  Samsung SmartCam                        1\n",
       "48737.0  Samsung SmartCam                        1\n",
       "3961.0   Laptop                                  1\n",
       "48735.0  Samsung SmartCam                        1\n",
       "48734.0  Samsung Galaxy Tab                      1\n",
       "48711.0  Samsung SmartCam                        1\n",
       "3962.0   Laptop                                  1\n",
       "48731.0  Samsung SmartCam                        1\n",
       "48724.0  Samsung SmartCam                        1\n",
       "48719.0  Samsung SmartCam                        1\n",
       "48717.0  Samsung SmartCam                        1\n",
       "48712.0  Samsung SmartCam                        1\n",
       "65535.0  Laptop                                  1\n",
       "Length: 11177, dtype: int64"
      ]
     },
     "execution_count": 38,
     "metadata": {},
     "output_type": "execute_result"
    }
   ],
   "source": [
    "df.groupby(['dstPort', 'device']).size().sort_values(ascending=False)"
   ]
  },
  {
   "cell_type": "code",
   "execution_count": null,
   "metadata": {},
   "outputs": [],
   "source": []
  }
 ],
 "metadata": {
  "kernelspec": {
   "display_name": "Python 3",
   "language": "python",
   "name": "python3"
  },
  "language_info": {
   "codemirror_mode": {
    "name": "ipython",
    "version": 3
   },
   "file_extension": ".py",
   "mimetype": "text/x-python",
   "name": "python",
   "nbconvert_exporter": "python",
   "pygments_lexer": "ipython3",
   "version": "3.6.4"
  }
 },
 "nbformat": 4,
 "nbformat_minor": 2
}
