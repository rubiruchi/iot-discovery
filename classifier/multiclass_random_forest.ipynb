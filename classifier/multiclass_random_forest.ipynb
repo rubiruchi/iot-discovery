{
 "cells": [
  {
   "cell_type": "code",
   "execution_count": 26,
   "metadata": {},
   "outputs": [],
   "source": [
    "import pandas as pd\n",
    "import numpy as np\n",
    "from sklearn.model_selection import train_test_split\n",
    "from sklearn.metrics import accuracy_score, f1_score\n",
    "from sklearn.externals import joblib\n",
    "from sklearn.ensemble import RandomForestClassifier\n",
    "pd.set_option('display.max_columns', None)"
   ]
  },
  {
   "cell_type": "code",
   "execution_count": 27,
   "metadata": {},
   "outputs": [],
   "source": [
    "df = pd.read_csv('../sample_csv_data/ohport_multi_device_downsampling_flow.csv')\n",
    "df = df.drop(columns=['Unnamed: 0'])\n",
    "df = df[df.device != 'Not IOT']"
   ]
  },
  {
   "cell_type": "code",
   "execution_count": 28,
   "metadata": {},
   "outputs": [
    {
     "data": {
      "text/plain": [
       "device\n",
       "Amazon Echo                         1000\n",
       "Belkin Wemo switch                  1000\n",
       "Belkin wemo motion sensor           1000\n",
       "HP Printer                          1000\n",
       "Insteon Camera                      1000\n",
       "Light Bulbs LiFX Smart Bulb         1000\n",
       "Netatmo Welcome                     1000\n",
       "Netatmo weather station             1000\n",
       "PIX-STAR Photo-frame                1000\n",
       "Samsung SmartCam                    1000\n",
       "TP-Link Day Night Cloud camera      1000\n",
       "Triby Speaker                       1000\n",
       "Withings Aura smart sleep sensor    1000\n",
       "Withings Smart Baby Monitor         1000\n",
       "dtype: int64"
      ]
     },
     "execution_count": 28,
     "metadata": {},
     "output_type": "execute_result"
    }
   ],
   "source": [
    "df.groupby('device').size()"
   ]
  },
  {
   "cell_type": "code",
   "execution_count": 29,
   "metadata": {},
   "outputs": [
    {
     "name": "stdout",
     "output_type": "stream",
     "text": [
      "Belkin wemo motion sensor\n",
      "Belkin Wemo switch\n",
      "Samsung SmartCam\n",
      "Amazon Echo\n",
      "Insteon Camera\n",
      "Light Bulbs LiFX Smart Bulb\n",
      "Withings Smart Baby Monitor\n",
      "Netatmo Welcome\n",
      "Withings Aura smart sleep sensor\n",
      "Netatmo weather station\n",
      "TP-Link Day Night Cloud camera\n",
      "PIX-STAR Photo-frame\n",
      "HP Printer\n",
      "Triby Speaker\n"
     ]
    }
   ],
   "source": [
    "# one hot for network & transport protocol\n",
    "one_hot = pd.get_dummies(df['networkProtocol'])\n",
    "df = df.join(one_hot)\n",
    "one_hot = pd.get_dummies(df['transportProtocol'])\n",
    "df = df.join(one_hot)\n",
    "\n",
    "# device name to number\n",
    "device_list = df.device.unique()\n",
    "for d in device_list:\n",
    "    print(d)\n",
    "device_dict = dict(zip(device_list, range(len(device_list))))\n",
    "df = df.replace({'device': device_dict})"
   ]
  },
  {
   "cell_type": "code",
   "execution_count": 30,
   "metadata": {},
   "outputs": [],
   "source": [
    "features = [\n",
    "    'dns',\n",
    "    'dhcp-server',\n",
    "    'http',\n",
    "    'ntp',\n",
    "    'https',\n",
    "    'smtp-ssl',\n",
    "    'imap-ssl',\n",
    "    'ssdp',\n",
    "    'icslap',\n",
    "    'stm-pproc',\n",
    "    'stun',\n",
    "    'ws-discovery',\n",
    "    'upnp-evnt',\n",
    "    'xmpp',\n",
    "    'android',\n",
    "    'dstPort25050',\n",
    "    'dstPort49152',\n",
    "    'dstPort49153',\n",
    "    'dstPort49154',\n",
    "    'srcPort49152',\n",
    "    'srcPort49153',\n",
    "    'ephemeralDstPort', \n",
    "    'registedDstPort',\n",
    "    'IPv4',\n",
    "    'IPv6',\n",
    "    'TCP',\n",
    "    'UDP',\n",
    "    'duration', \n",
    "    'packetCount', \n",
    "    'totalPayloadByte', \n",
    "    'appplicationPayloadByte'\n",
    "]\n",
    "\n",
    "X = df[features].values[:]\n",
    "Y = df[['device']].values[:]\n",
    "Y = Y.astype('int')\n",
    "X_train, X_test, y_train, y_test = train_test_split(X, Y, test_size = 0.3, random_state = 100)"
   ]
  },
  {
   "cell_type": "code",
   "execution_count": 31,
   "metadata": {},
   "outputs": [
    {
     "name": "stderr",
     "output_type": "stream",
     "text": [
      "/anaconda3/lib/python3.6/site-packages/ipykernel_launcher.py:2: DataConversionWarning: A column-vector y was passed when a 1d array was expected. Please change the shape of y to (n_samples,), for example using ravel().\n",
      "  \n"
     ]
    }
   ],
   "source": [
    "clf = RandomForestClassifier(n_estimators=100)\n",
    "clf.fit(X_train, y_train)\n",
    "y_pred = clf.predict(X_test)"
   ]
  },
  {
   "cell_type": "code",
   "execution_count": 32,
   "metadata": {},
   "outputs": [
    {
     "name": "stdout",
     "output_type": "stream",
     "text": [
      "accurency is 0.9557142857142857 \n",
      "f1 score is [0.99238965 0.98827471 0.97039474 0.97063903 0.94425087 0.94545455\n",
      " 0.92117465 0.9699115  0.9322314  0.9704918  0.96247961 0.8940754\n",
      " 0.97142857 0.94078947] \n",
      "\n"
     ]
    }
   ],
   "source": [
    "print(\"accurency is\", accuracy_score(y_test,y_pred), \"\\nf1 score is\", f1_score(y_test, y_pred, average=None), \"\\n\")\n",
    "scores = f1_score(y_test, y_pred, average=None)"
   ]
  },
  {
   "cell_type": "code",
   "execution_count": 33,
   "metadata": {},
   "outputs": [
    {
     "name": "stdout",
     "output_type": "stream",
     "text": [
      "0.9923896499238964 Belkin wemo motion sensor\n",
      "0.9882747068676717 Belkin Wemo switch\n",
      "0.9703947368421053 Samsung SmartCam\n",
      "0.9706390328151987 Amazon Echo\n",
      "0.9442508710801394 Insteon Camera\n",
      "0.9454545454545454 Light Bulbs LiFX Smart Bulb\n",
      "0.9211746522411127 Withings Smart Baby Monitor\n",
      "0.9699115044247787 Netatmo Welcome\n",
      "0.9322314049586777 Withings Aura smart sleep sensor\n",
      "0.9704918032786884 Netatmo weather station\n",
      "0.9624796084828711 TP-Link Day Night Cloud camera\n",
      "0.8940754039497307 PIX-STAR Photo-frame\n",
      "0.9714285714285715 HP Printer\n",
      "0.9407894736842104 Triby Speaker\n"
     ]
    }
   ],
   "source": [
    "i = 0\n",
    "for s in scores:\n",
    "    print(s, device_list[i])\n",
    "    i+=1"
   ]
  },
  {
   "cell_type": "code",
   "execution_count": 34,
   "metadata": {},
   "outputs": [
    {
     "name": "stdout",
     "output_type": "stream",
     "text": [
      "1.6049200763694773 dns\n",
      "0.5558706550150009 dhcp-server\n",
      "3.9561746864745055 http\n",
      "1.87495712864985 ntp\n",
      "4.127454315194693 https\n",
      "0.7284837436300361 smtp-ssl\n",
      "0.0 imap-ssl\n",
      "0.08472504007472002 ssdp\n",
      "0.02632939976327437 icslap\n",
      "0.10579889391150338 stm-pproc\n",
      "0.8598378145226274 stun\n",
      "0.0 ws-discovery\n",
      "0.024594305329450932 upnp-evnt\n",
      "0.6686216283771361 xmpp\n",
      "0.36579362266138366 android\n",
      "3.9911578272706425 dstPort25050\n",
      "1.685290168614463 dstPort49152\n",
      "1.2260587082859906 dstPort49153\n",
      "0.14446535775781544 dstPort49154\n",
      "1.6731969694489126 srcPort49152\n",
      "2.4366264297705036 srcPort49153\n",
      "1.9071782912069706 ephemeralDstPort\n",
      "2.4829720978606638 registedDstPort\n",
      "0.3398553991729085 IPv4\n",
      "0.28745532087552045 IPv6\n",
      "1.5327626906991365 TCP\n",
      "1.6330095311143096 UDP\n",
      "22.23647442570796 duration\n",
      "10.136399265914424 packetCount\n",
      "28.98787625344822 totalPayloadByte\n",
      "4.315659952877902 appplicationPayloadByte\n"
     ]
    }
   ],
   "source": [
    "i = 0\n",
    "for im in clf.feature_importances_:\n",
    "    print(im*100, features[i])\n",
    "    i+=1"
   ]
  },
  {
   "cell_type": "code",
   "execution_count": 35,
   "metadata": {},
   "outputs": [
    {
     "data": {
      "text/plain": [
       "['multiclass_classify_model.pkl']"
      ]
     },
     "execution_count": 35,
     "metadata": {},
     "output_type": "execute_result"
    }
   ],
   "source": [
    "joblib.dump(clf, 'multiclass_classify_model.pkl')"
   ]
  },
  {
   "cell_type": "code",
   "execution_count": null,
   "metadata": {},
   "outputs": [],
   "source": []
  },
  {
   "cell_type": "code",
   "execution_count": null,
   "metadata": {},
   "outputs": [],
   "source": []
  },
  {
   "cell_type": "code",
   "execution_count": null,
   "metadata": {},
   "outputs": [],
   "source": []
  }
 ],
 "metadata": {
  "kernelspec": {
   "display_name": "Python 3",
   "language": "python",
   "name": "python3"
  },
  "language_info": {
   "codemirror_mode": {
    "name": "ipython",
    "version": 3
   },
   "file_extension": ".py",
   "mimetype": "text/x-python",
   "name": "python",
   "nbconvert_exporter": "python",
   "pygments_lexer": "ipython3",
   "version": "3.6.4"
  }
 },
 "nbformat": 4,
 "nbformat_minor": 2
}
